{
 "cells": [
  {
   "cell_type": "code",
   "execution_count": 1,
   "id": "f13c7fd2-84ea-404c-b809-3b3b3b29182b",
   "metadata": {},
   "outputs": [],
   "source": [
    "import numpy as np\n",
    "import pandas as pd\n",
    "import requests"
   ]
  },
  {
   "cell_type": "code",
   "execution_count": 2,
   "id": "a1929412-abd9-49cc-8658-d485e060a4b5",
   "metadata": {},
   "outputs": [
    {
     "data": {
      "text/html": [
       "<div>\n",
       "<style scoped>\n",
       "    .dataframe tbody tr th:only-of-type {\n",
       "        vertical-align: middle;\n",
       "    }\n",
       "\n",
       "    .dataframe tbody tr th {\n",
       "        vertical-align: top;\n",
       "    }\n",
       "\n",
       "    .dataframe thead th {\n",
       "        text-align: right;\n",
       "    }\n",
       "</style>\n",
       "<table border=\"1\" class=\"dataframe\">\n",
       "  <thead>\n",
       "    <tr style=\"text-align: right;\">\n",
       "      <th></th>\n",
       "      <th>raw_data</th>\n",
       "    </tr>\n",
       "  </thead>\n",
       "  <tbody>\n",
       "    <tr>\n",
       "      <th>0</th>\n",
       "      <td>...</td>\n",
       "    </tr>\n",
       "    <tr>\n",
       "      <th>1</th>\n",
       "      <td>OF.DE TECNOLOG.DE LA INFOR.               EXA...</td>\n",
       "    </tr>\n",
       "    <tr>\n",
       "      <th>2</th>\n",
       "      <td>* AREA P.A.D.*                         ...</td>\n",
       "    </tr>\n",
       "    <tr>\n",
       "      <th>3</th>\n",
       "      <td>R...</td>\n",
       "    </tr>\n",
       "    <tr>\n",
       "      <th>4</th>\n",
       "      <td>=============================================...</td>\n",
       "    </tr>\n",
       "    <tr>\n",
       "      <th>...</th>\n",
       "      <td>...</td>\n",
       "    </tr>\n",
       "    <tr>\n",
       "      <th>1376</th>\n",
       "      <td>0010 037266 VELA PONCE DANIEL FABIO          ...</td>\n",
       "    </tr>\n",
       "    <tr>\n",
       "      <th>1377</th>\n",
       "      <td>0011 039318 SICCHA CARRANZA JENIFFER LIZBETH ...</td>\n",
       "    </tr>\n",
       "    <tr>\n",
       "      <th>1378</th>\n",
       "      <td>0012 018972 DAVILA BENAVIDES MARINA LISBET   ...</td>\n",
       "    </tr>\n",
       "    <tr>\n",
       "      <th>1379</th>\n",
       "      <td>********************************************...</td>\n",
       "    </tr>\n",
       "    <tr>\n",
       "      <th>1380</th>\n",
       "      <td>Nro TOTAL DE POSTULANTES ====&gt;              ...</td>\n",
       "    </tr>\n",
       "  </tbody>\n",
       "</table>\n",
       "<p>1381 rows × 1 columns</p>\n",
       "</div>"
      ],
      "text/plain": [
       "                                               raw_data\n",
       "0                                                   ...\n",
       "1      OF.DE TECNOLOG.DE LA INFOR.               EXA...\n",
       "2            * AREA P.A.D.*                         ...\n",
       "3                                                  R...\n",
       "4      =============================================...\n",
       "...                                                 ...\n",
       "1376   0010 037266 VELA PONCE DANIEL FABIO          ...\n",
       "1377   0011 039318 SICCHA CARRANZA JENIFFER LIZBETH ...\n",
       "1378   0012 018972 DAVILA BENAVIDES MARINA LISBET   ...\n",
       "1379    ********************************************...\n",
       "1380    Nro TOTAL DE POSTULANTES ====>              ...\n",
       "\n",
       "[1381 rows x 1 columns]"
      ]
     },
     "execution_count": 2,
     "metadata": {},
     "output_type": "execute_result"
    }
   ],
   "source": [
    "r = requests.get('https://unitru.edu.pe/webfiles///Convocatoria/2021/10//35_DOC_CONVO_30102021063012.txt')\n",
    "apparent_encoding = r.apparent_encoding\n",
    "df = pd.read_csv('https://unitru.edu.pe/webfiles///Convocatoria/2021/10//35_DOC_CONVO_30102021063012.txt',\n",
    "                 encoding=apparent_encoding,\n",
    "                 names= { 'raw_data': 0})\n",
    "df"
   ]
  },
  {
   "cell_type": "code",
   "execution_count": 3,
   "id": "4cc4bdd2-539b-4d92-8b85-250c7a5ab0bd",
   "metadata": {},
   "outputs": [
    {
     "data": {
      "text/plain": [
       "'ORDINARIO 2022- I - TRUJILLO'"
      ]
     },
     "execution_count": 3,
     "metadata": {},
     "output_type": "execute_result"
    }
   ],
   "source": [
    "type_test_and_place = ( df\n",
    " .iloc[1]\n",
    " .str.replace(r'\\s+', ' ', regex=True)\n",
    " .str.split(r'EXAMEN\\s\\DE\\sADMISION\\s|\\sP', expand=True)\n",
    " .loc['raw_data', 1]\n",
    " )\n",
    "type_test_and_place"
   ]
  },
  {
   "cell_type": "code",
   "execution_count": 4,
   "id": "f67ab5fa-2e8c-43d0-9b96-e4f4ca482690",
   "metadata": {},
   "outputs": [
    {
     "data": {
      "text/plain": [
       "'30/10/2021'"
      ]
     },
     "execution_count": 4,
     "metadata": {},
     "output_type": "execute_result"
    }
   ],
   "source": [
    "date = (df\n",
    " .iloc[2]\n",
    " .str.extract(r'(\\d+/\\d+/\\d+)')\n",
    " .loc['raw_data', 0]\n",
    " )\n",
    "date"
   ]
  },
  {
   "cell_type": "code",
   "execution_count": 7,
   "id": "0036c282-55b1-4d52-a6e6-454550b95180",
   "metadata": {},
   "outputs": [
    {
     "data": {
      "text/plain": [
       "' * AREA P.A.D.* AREA : C-D 30/10/2021'"
      ]
     },
     "execution_count": 7,
     "metadata": {},
     "output_type": "execute_result"
    }
   ],
   "source": [
    "row_area = (df\n",
    " .iloc[2]\n",
    " .str.replace(r'\\s+', ' ', regex=True)\n",
    " ['raw_data']\n",
    " )\n",
    "row_area"
   ]
  },
  {
   "cell_type": "code",
   "execution_count": 9,
   "id": "c2aea74f-9d86-404d-8464-2141cf71cb35",
   "metadata": {},
   "outputs": [],
   "source": [
    "filter_rows = (df\n",
    "               ['raw_data']\n",
    "               .map(lambda row: row.startswith(' 0'))\n",
    "               )\n",
    "without_extra_spaces_S = (df\n",
    " .loc[filter_rows]\n",
    " .reset_index()\n",
    " .drop('index', axis=1)\n",
    " ['raw_data']\n",
    " .str.replace(r'\\s+', ' ', regex=True)\n",
    " .str.strip()\n",
    " )"
   ]
  },
  {
   "cell_type": "code",
   "execution_count": 10,
   "id": "54673cc1-f042-4262-9dbd-6ab00020a961",
   "metadata": {},
   "outputs": [],
   "source": [
    "# without_extra_spaces_S.loc[0]"
   ]
  },
  {
   "cell_type": "code",
   "execution_count": 12,
   "id": "bcb31828-d5e8-4c0b-b387-061a116eb3f5",
   "metadata": {},
   "outputs": [],
   "source": [
    "full_name_df = (without_extra_spaces_S\n",
    " .str.extract(r'(\\s\\D+\\s-?\\d)')\n",
    " [0]\n",
    " .str.replace(r'-?\\d', '', regex=True)\n",
    " # .loc[195]\n",
    " # .str.contains(r'\\d')\n",
    " # .value_counts()\n",
    " )"
   ]
  },
  {
   "cell_type": "code",
   "execution_count": 13,
   "id": "47814282-4322-46c3-9d87-6e1ab29bb0a8",
   "metadata": {},
   "outputs": [],
   "source": [
    "grades_df = ( without_extra_spaces_S\n",
    " .str.extractall(r'(-?\\d+\\.\\d+)')\n",
    " .unstack()\n",
    " #.loc[191]\n",
    " )"
   ]
  },
  {
   "cell_type": "code",
   "execution_count": 16,
   "id": "22491773-7e68-4de8-844d-ea24c583df9b",
   "metadata": {},
   "outputs": [],
   "source": [
    "grades_df.columns = grades_df.columns.droplevel(0) # solo se ejecuta una vez"
   ]
  },
  {
   "cell_type": "code",
   "execution_count": 17,
   "id": "06d555a9-58c0-4732-b878-68fb6877e962",
   "metadata": {},
   "outputs": [],
   "source": [
    "grades_df.columns = grades_df.columns.rename(name=None) # solo se ejecuta una vez"
   ]
  },
  {
   "cell_type": "code",
   "execution_count": 18,
   "id": "8ad40a82-8771-4918-b043-f26e90b228c6",
   "metadata": {},
   "outputs": [],
   "source": [
    "# grades_df"
   ]
  },
  {
   "cell_type": "code",
   "execution_count": 19,
   "id": "07ead81d-b6fb-4cc5-aa87-fc05e604f862",
   "metadata": {},
   "outputs": [],
   "source": [
    "# without_extra_spaces_S.loc[0]"
   ]
  },
  {
   "cell_type": "code",
   "execution_count": 20,
   "id": "474b1852-4bea-4533-a3db-fcf9b65dfb31",
   "metadata": {},
   "outputs": [],
   "source": [
    "school_with_detail_S = ( without_extra_spaces_S.str.extract(r'(\\.\\d+\\s[A-Z].*)')\n",
    " #.loc[1178]\n",
    "  [0]\n",
    "  .str.replace(r'\\.\\d+\\s', '', regex=True)\n",
    "  # .value_counts()\n",
    " )"
   ]
  },
  {
   "cell_type": "code",
   "execution_count": 21,
   "id": "e929ac74-351b-48d2-ab01-9d07001e13ad",
   "metadata": {},
   "outputs": [],
   "source": [
    "details_S = (school_with_detail_S\n",
    " .str.extract(r'(INGRESA.*|NO\\sINGRESA.*|ING\\..*|AUSENTE)')\n",
    " [0]\n",
    " )"
   ]
  },
  {
   "cell_type": "code",
   "execution_count": 22,
   "id": "e36ada9f-295c-459c-8f0a-f979d722a6d5",
   "metadata": {},
   "outputs": [],
   "source": [
    "school_S = ( school_with_detail_S\n",
    " .str.replace(r'INGRESA.*|NO\\sINGRESA.*|ING\\..*|AUSENTE', '', regex=True)\n",
    ")"
   ]
  },
  {
   "cell_type": "code",
   "execution_count": 23,
   "id": "677b4e83-2e3e-48fd-8b47-2aafeda9d4ed",
   "metadata": {},
   "outputs": [],
   "source": [
    "final_df = pd.concat(\n",
    "    [full_name_df, grades_df, school_S, details_S],\n",
    "    axis='columns',\n",
    "    sort=False)"
   ]
  },
  {
   "cell_type": "code",
   "execution_count": 24,
   "id": "dd1f22ca-51a0-45f3-ac5a-dc35ad8cbf2b",
   "metadata": {},
   "outputs": [
    {
     "data": {
      "text/html": [
       "<div>\n",
       "<style scoped>\n",
       "    .dataframe tbody tr th:only-of-type {\n",
       "        vertical-align: middle;\n",
       "    }\n",
       "\n",
       "    .dataframe tbody tr th {\n",
       "        vertical-align: top;\n",
       "    }\n",
       "\n",
       "    .dataframe thead th {\n",
       "        text-align: right;\n",
       "    }\n",
       "</style>\n",
       "<table border=\"1\" class=\"dataframe\">\n",
       "  <thead>\n",
       "    <tr style=\"text-align: right;\">\n",
       "      <th></th>\n",
       "      <th>full_name</th>\n",
       "      <th>apt_academica</th>\n",
       "      <th>conocimiento</th>\n",
       "      <th>total</th>\n",
       "      <th>minimo</th>\n",
       "      <th>escuela</th>\n",
       "      <th>observacion</th>\n",
       "    </tr>\n",
       "  </thead>\n",
       "  <tbody>\n",
       "    <tr>\n",
       "      <th>1174</th>\n",
       "      <td>MOZO ZAVALETA JOSE LUIS</td>\n",
       "      <td>25.421</td>\n",
       "      <td>37.697</td>\n",
       "      <td>63.118</td>\n",
       "      <td>74.776</td>\n",
       "      <td>ED.SEC: HISTORIA</td>\n",
       "      <td>NO INGRESA</td>\n",
       "    </tr>\n",
       "    <tr>\n",
       "      <th>1175</th>\n",
       "      <td>PACHECO DEL AGUILA EDU</td>\n",
       "      <td>16.262</td>\n",
       "      <td>44.854</td>\n",
       "      <td>61.116</td>\n",
       "      <td>74.776</td>\n",
       "      <td>ED.SEC: HISTORIA</td>\n",
       "      <td>NO INGRESA</td>\n",
       "    </tr>\n",
       "    <tr>\n",
       "      <th>1176</th>\n",
       "      <td>VELA PONCE DANIEL FABIO</td>\n",
       "      <td>12.204</td>\n",
       "      <td>28.538</td>\n",
       "      <td>40.742</td>\n",
       "      <td>74.776</td>\n",
       "      <td>ED.SEC: HISTORIA</td>\n",
       "      <td>NO INGRESA</td>\n",
       "    </tr>\n",
       "    <tr>\n",
       "      <th>1177</th>\n",
       "      <td>SICCHA CARRANZA JENIFFER LIZBETH</td>\n",
       "      <td>19.325</td>\n",
       "      <td>15.275</td>\n",
       "      <td>34.600</td>\n",
       "      <td>74.776</td>\n",
       "      <td>ED.SEC: HISTORIA</td>\n",
       "      <td>NO INGRESA</td>\n",
       "    </tr>\n",
       "    <tr>\n",
       "      <th>1178</th>\n",
       "      <td>DAVILA BENAVIDES MARINA LISBET</td>\n",
       "      <td>12.204</td>\n",
       "      <td>-11.236</td>\n",
       "      <td>0.968</td>\n",
       "      <td>74.776</td>\n",
       "      <td>ED.SEC: HISTORIA</td>\n",
       "      <td>NO INGRESA</td>\n",
       "    </tr>\n",
       "  </tbody>\n",
       "</table>\n",
       "</div>"
      ],
      "text/plain": [
       "                               full_name apt_academica conocimiento   total  \\\n",
       "1174            MOZO ZAVALETA JOSE LUIS         25.421       37.697  63.118   \n",
       "1175             PACHECO DEL AGUILA EDU         16.262       44.854  61.116   \n",
       "1176            VELA PONCE DANIEL FABIO         12.204       28.538  40.742   \n",
       "1177   SICCHA CARRANZA JENIFFER LIZBETH         19.325       15.275  34.600   \n",
       "1178     DAVILA BENAVIDES MARINA LISBET         12.204      -11.236   0.968   \n",
       "\n",
       "      minimo            escuela observacion  \n",
       "1174  74.776  ED.SEC: HISTORIA   NO INGRESA  \n",
       "1175  74.776  ED.SEC: HISTORIA   NO INGRESA  \n",
       "1176  74.776  ED.SEC: HISTORIA   NO INGRESA  \n",
       "1177  74.776  ED.SEC: HISTORIA   NO INGRESA  \n",
       "1178  74.776  ED.SEC: HISTORIA   NO INGRESA  "
      ]
     },
     "execution_count": 24,
     "metadata": {},
     "output_type": "execute_result"
    }
   ],
   "source": [
    "final_df.columns = ['full_name', 'apt_academica', 'conocimiento', 'total', 'minimo', 'escuela', 'observacion']\n",
    "final_df.tail()"
   ]
  },
  {
   "cell_type": "code",
   "execution_count": 25,
   "id": "bb8bc25c-afc0-41ac-b8dc-58ff3ba24241",
   "metadata": {},
   "outputs": [],
   "source": [
    "final_df['date'] = date\n",
    "final_df['row_area'] = row_area\n",
    "final_df['type_test_and_place'] = type_test_and_place"
   ]
  },
  {
   "cell_type": "code",
   "execution_count": 26,
   "id": "ad006b5d-cbfd-4507-9f47-7bad69dc7b18",
   "metadata": {},
   "outputs": [
    {
     "name": "stderr",
     "output_type": "stream",
     "text": [
      "/tmp/ipykernel_1608/3200173129.py:2: FutureWarning: DataFrame.applymap has been deprecated. Use DataFrame.map instead.\n",
      "  .applymap(str.strip)\n"
     ]
    }
   ],
   "source": [
    "final_df = ( final_df\n",
    "            .applymap(str.strip)\n",
    ")"
   ]
  },
  {
   "cell_type": "code",
   "execution_count": 27,
   "id": "dd8b8a2b-5553-4913-b87e-2469b0942e73",
   "metadata": {},
   "outputs": [
    {
     "data": {
      "text/plain": [
       "'2.1.1'"
      ]
     },
     "execution_count": 27,
     "metadata": {},
     "output_type": "execute_result"
    }
   ],
   "source": [
    "pd.__version__"
   ]
  },
  {
   "cell_type": "code",
   "execution_count": 28,
   "id": "d6f0c4cb-5c0f-48c2-942b-3ebdae928a2e",
   "metadata": {},
   "outputs": [
    {
     "data": {
      "text/plain": [
       "'1.25.2'"
      ]
     },
     "execution_count": 28,
     "metadata": {},
     "output_type": "execute_result"
    }
   ],
   "source": [
    "np.__version__"
   ]
  },
  {
   "cell_type": "code",
   "execution_count": null,
   "id": "7fae1c68-cad3-4ac1-a1b8-282211140b1d",
   "metadata": {},
   "outputs": [],
   "source": []
  }
 ],
 "metadata": {
  "kernelspec": {
   "display_name": "Python 3 (ipykernel)",
   "language": "python",
   "name": "python3"
  },
  "language_info": {
   "codemirror_mode": {
    "name": "ipython",
    "version": 3
   },
   "file_extension": ".py",
   "mimetype": "text/x-python",
   "name": "python",
   "nbconvert_exporter": "python",
   "pygments_lexer": "ipython3",
   "version": "3.10.12"
  }
 },
 "nbformat": 4,
 "nbformat_minor": 5
}
